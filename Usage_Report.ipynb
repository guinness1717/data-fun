{
 "cells": [
  {
   "cell_type": "code",
   "execution_count": 121,
   "metadata": {},
   "outputs": [],
   "source": [
    "import numpy as np\n",
    "import pandas as pd\n",
    "import matplotlib.pyplot as plt\n",
    "import scipy as sp\n",
    "import seaborn as sns"
   ]
  },
  {
   "cell_type": "code",
   "execution_count": 122,
   "metadata": {},
   "outputs": [],
   "source": [
    "fp_report = '~/Desktop/ES-Misc/Data-Python/JPPL/New-Data/jppl.csv'"
   ]
  },
  {
   "cell_type": "code",
   "execution_count": 123,
   "metadata": {},
   "outputs": [],
   "source": [
    "df_report = pd.read_csv(fp_report, sep = ';')"
   ]
  },
  {
   "cell_type": "code",
   "execution_count": 124,
   "metadata": {},
   "outputs": [
    {
     "data": {
      "text/html": [
       "<div>\n",
       "<style scoped>\n",
       "    .dataframe tbody tr th:only-of-type {\n",
       "        vertical-align: middle;\n",
       "    }\n",
       "\n",
       "    .dataframe tbody tr th {\n",
       "        vertical-align: top;\n",
       "    }\n",
       "\n",
       "    .dataframe thead th {\n",
       "        text-align: right;\n",
       "    }\n",
       "</style>\n",
       "<table border=\"1\" class=\"dataframe\">\n",
       "  <thead>\n",
       "    <tr style=\"text-align: right;\">\n",
       "      <th></th>\n",
       "      <th>Job ID</th>\n",
       "      <th>Date/Time</th>\n",
       "      <th>File Name</th>\n",
       "      <th>Printer ID</th>\n",
       "      <th>Email</th>\n",
       "      <th>Material Used (kg)</th>\n",
       "      <th>Real print time (h)</th>\n",
       "      <th>Estimated print time (h)</th>\n",
       "      <th>Status</th>\n",
       "      <th>Material Cost ($)</th>\n",
       "    </tr>\n",
       "  </thead>\n",
       "  <tbody>\n",
       "    <tr>\n",
       "      <td>0</td>\n",
       "      <td>1025020</td>\n",
       "      <td>2019-09-30 19:50:34</td>\n",
       "      <td>stopbully2_3378416.gcode</td>\n",
       "      <td>40995</td>\n",
       "      <td>jpl3dprint@jplibrary.net</td>\n",
       "      <td>0.012</td>\n",
       "      <td>1.37</td>\n",
       "      <td>1.32</td>\n",
       "      <td>Finished</td>\n",
       "      <td>0.58</td>\n",
       "    </tr>\n",
       "    <tr>\n",
       "      <td>1</td>\n",
       "      <td>1023315</td>\n",
       "      <td>2019-09-29 21:12:54</td>\n",
       "      <td>level3_NOMAS_3371509.gcode</td>\n",
       "      <td>48700</td>\n",
       "      <td>tulanearchitecture@gmail.com</td>\n",
       "      <td>0.000</td>\n",
       "      <td>0.00</td>\n",
       "      <td>15.91</td>\n",
       "      <td>Aborted</td>\n",
       "      <td>0.00</td>\n",
       "    </tr>\n",
       "    <tr>\n",
       "      <td>2</td>\n",
       "      <td>1023313</td>\n",
       "      <td>2019-09-29 21:11:59</td>\n",
       "      <td>Box_testPrint_3372547.gcode</td>\n",
       "      <td>48700</td>\n",
       "      <td>tulanearchitecture@gmail.com</td>\n",
       "      <td>0.000</td>\n",
       "      <td>0.04</td>\n",
       "      <td>29.53</td>\n",
       "      <td>Aborted</td>\n",
       "      <td>0.00</td>\n",
       "    </tr>\n",
       "    <tr>\n",
       "      <td>3</td>\n",
       "      <td>1023070</td>\n",
       "      <td>2019-09-29 16:25:04</td>\n",
       "      <td>level3_NOMAS_3371509.gcode</td>\n",
       "      <td>48623</td>\n",
       "      <td>tulanearchitecture@gmail.com</td>\n",
       "      <td>0.116</td>\n",
       "      <td>15.82</td>\n",
       "      <td>15.91</td>\n",
       "      <td>Finished</td>\n",
       "      <td>10.12</td>\n",
       "    </tr>\n",
       "    <tr>\n",
       "      <td>4</td>\n",
       "      <td>1022840</td>\n",
       "      <td>2019-09-29 04:32:09</td>\n",
       "      <td>level5_NOMAS_3370596.gcode</td>\n",
       "      <td>48619</td>\n",
       "      <td>tulanearchitecture@gmail.com</td>\n",
       "      <td>0.051</td>\n",
       "      <td>5.29</td>\n",
       "      <td>5.24</td>\n",
       "      <td>Finished</td>\n",
       "      <td>4.46</td>\n",
       "    </tr>\n",
       "  </tbody>\n",
       "</table>\n",
       "</div>"
      ],
      "text/plain": [
       "    Job ID            Date/Time                    File Name  Printer ID  \\\n",
       "0  1025020  2019-09-30 19:50:34     stopbully2_3378416.gcode       40995   \n",
       "1  1023315  2019-09-29 21:12:54   level3_NOMAS_3371509.gcode       48700   \n",
       "2  1023313  2019-09-29 21:11:59  Box_testPrint_3372547.gcode       48700   \n",
       "3  1023070  2019-09-29 16:25:04   level3_NOMAS_3371509.gcode       48623   \n",
       "4  1022840  2019-09-29 04:32:09   level5_NOMAS_3370596.gcode       48619   \n",
       "\n",
       "                          Email  Material Used (kg)  Real print time (h)  \\\n",
       "0      jpl3dprint@jplibrary.net               0.012                 1.37   \n",
       "1  tulanearchitecture@gmail.com               0.000                 0.00   \n",
       "2  tulanearchitecture@gmail.com               0.000                 0.04   \n",
       "3  tulanearchitecture@gmail.com               0.116                15.82   \n",
       "4  tulanearchitecture@gmail.com               0.051                 5.29   \n",
       "\n",
       "   Estimated print time (h)    Status  Material Cost ($)  \n",
       "0                      1.32  Finished               0.58  \n",
       "1                     15.91   Aborted               0.00  \n",
       "2                     29.53   Aborted               0.00  \n",
       "3                     15.91  Finished              10.12  \n",
       "4                      5.24  Finished               4.46  "
      ]
     },
     "execution_count": 124,
     "metadata": {},
     "output_type": "execute_result"
    }
   ],
   "source": [
    "df_report.head()"
   ]
  },
  {
   "cell_type": "code",
   "execution_count": 125,
   "metadata": {},
   "outputs": [
    {
     "name": "stdout",
     "output_type": "stream",
     "text": [
      "{40994: 'EBR', 40995: 'EBR', 48771: 'Teen', 49365: 'WBR', 49316: 'RIV'}\n"
     ]
    }
   ],
   "source": [
    "B1 = [40994,40995]\n",
    "d1 = dict.fromkeys(B1, 'EBR')\n",
    "\n",
    "B2 = [48771]\n",
    "d2 = dict.fromkeys(B2, 'Teen')\n",
    "\n",
    "B3 = [49365]\n",
    "d3 = dict.fromkeys(B3,'WBR')\n",
    "\n",
    "B4 = [49316]\n",
    "d4 = dict.fromkeys(B4,'RIV')\n",
    "\n",
    "d = {**d1, **d2, **d3, **d4}\n",
    "print(d)\n"
   ]
  },
  {
   "cell_type": "code",
   "execution_count": 126,
   "metadata": {},
   "outputs": [],
   "source": [
    "df_report['Branch'] = df_report['Printer ID'].map(d)"
   ]
  },
  {
   "cell_type": "code",
   "execution_count": 127,
   "metadata": {},
   "outputs": [
    {
     "data": {
      "text/html": [
       "<div>\n",
       "<style scoped>\n",
       "    .dataframe tbody tr th:only-of-type {\n",
       "        vertical-align: middle;\n",
       "    }\n",
       "\n",
       "    .dataframe tbody tr th {\n",
       "        vertical-align: top;\n",
       "    }\n",
       "\n",
       "    .dataframe thead th {\n",
       "        text-align: right;\n",
       "    }\n",
       "</style>\n",
       "<table border=\"1\" class=\"dataframe\">\n",
       "  <thead>\n",
       "    <tr style=\"text-align: right;\">\n",
       "      <th></th>\n",
       "      <th>Job ID</th>\n",
       "      <th>Date/Time</th>\n",
       "      <th>File Name</th>\n",
       "      <th>Printer ID</th>\n",
       "      <th>Email</th>\n",
       "      <th>Material Used (kg)</th>\n",
       "      <th>Real print time (h)</th>\n",
       "      <th>Estimated print time (h)</th>\n",
       "      <th>Status</th>\n",
       "      <th>Material Cost ($)</th>\n",
       "      <th>Branch</th>\n",
       "    </tr>\n",
       "  </thead>\n",
       "  <tbody>\n",
       "    <tr>\n",
       "      <td>0</td>\n",
       "      <td>1025020</td>\n",
       "      <td>2019-09-30 19:50:34</td>\n",
       "      <td>stopbully2_3378416.gcode</td>\n",
       "      <td>40995</td>\n",
       "      <td>jpl3dprint@jplibrary.net</td>\n",
       "      <td>0.012</td>\n",
       "      <td>1.37</td>\n",
       "      <td>1.32</td>\n",
       "      <td>Finished</td>\n",
       "      <td>0.58</td>\n",
       "      <td>EBR</td>\n",
       "    </tr>\n",
       "    <tr>\n",
       "      <td>1</td>\n",
       "      <td>1023315</td>\n",
       "      <td>2019-09-29 21:12:54</td>\n",
       "      <td>level3_NOMAS_3371509.gcode</td>\n",
       "      <td>48700</td>\n",
       "      <td>tulanearchitecture@gmail.com</td>\n",
       "      <td>0.000</td>\n",
       "      <td>0.00</td>\n",
       "      <td>15.91</td>\n",
       "      <td>Aborted</td>\n",
       "      <td>0.00</td>\n",
       "      <td>NaN</td>\n",
       "    </tr>\n",
       "    <tr>\n",
       "      <td>2</td>\n",
       "      <td>1023313</td>\n",
       "      <td>2019-09-29 21:11:59</td>\n",
       "      <td>Box_testPrint_3372547.gcode</td>\n",
       "      <td>48700</td>\n",
       "      <td>tulanearchitecture@gmail.com</td>\n",
       "      <td>0.000</td>\n",
       "      <td>0.04</td>\n",
       "      <td>29.53</td>\n",
       "      <td>Aborted</td>\n",
       "      <td>0.00</td>\n",
       "      <td>NaN</td>\n",
       "    </tr>\n",
       "    <tr>\n",
       "      <td>3</td>\n",
       "      <td>1023070</td>\n",
       "      <td>2019-09-29 16:25:04</td>\n",
       "      <td>level3_NOMAS_3371509.gcode</td>\n",
       "      <td>48623</td>\n",
       "      <td>tulanearchitecture@gmail.com</td>\n",
       "      <td>0.116</td>\n",
       "      <td>15.82</td>\n",
       "      <td>15.91</td>\n",
       "      <td>Finished</td>\n",
       "      <td>10.12</td>\n",
       "      <td>NaN</td>\n",
       "    </tr>\n",
       "    <tr>\n",
       "      <td>4</td>\n",
       "      <td>1022840</td>\n",
       "      <td>2019-09-29 04:32:09</td>\n",
       "      <td>level5_NOMAS_3370596.gcode</td>\n",
       "      <td>48619</td>\n",
       "      <td>tulanearchitecture@gmail.com</td>\n",
       "      <td>0.051</td>\n",
       "      <td>5.29</td>\n",
       "      <td>5.24</td>\n",
       "      <td>Finished</td>\n",
       "      <td>4.46</td>\n",
       "      <td>NaN</td>\n",
       "    </tr>\n",
       "  </tbody>\n",
       "</table>\n",
       "</div>"
      ],
      "text/plain": [
       "    Job ID            Date/Time                    File Name  Printer ID  \\\n",
       "0  1025020  2019-09-30 19:50:34     stopbully2_3378416.gcode       40995   \n",
       "1  1023315  2019-09-29 21:12:54   level3_NOMAS_3371509.gcode       48700   \n",
       "2  1023313  2019-09-29 21:11:59  Box_testPrint_3372547.gcode       48700   \n",
       "3  1023070  2019-09-29 16:25:04   level3_NOMAS_3371509.gcode       48623   \n",
       "4  1022840  2019-09-29 04:32:09   level5_NOMAS_3370596.gcode       48619   \n",
       "\n",
       "                          Email  Material Used (kg)  Real print time (h)  \\\n",
       "0      jpl3dprint@jplibrary.net               0.012                 1.37   \n",
       "1  tulanearchitecture@gmail.com               0.000                 0.00   \n",
       "2  tulanearchitecture@gmail.com               0.000                 0.04   \n",
       "3  tulanearchitecture@gmail.com               0.116                15.82   \n",
       "4  tulanearchitecture@gmail.com               0.051                 5.29   \n",
       "\n",
       "   Estimated print time (h)    Status  Material Cost ($) Branch  \n",
       "0                      1.32  Finished               0.58    EBR  \n",
       "1                     15.91   Aborted               0.00    NaN  \n",
       "2                     29.53   Aborted               0.00    NaN  \n",
       "3                     15.91  Finished              10.12    NaN  \n",
       "4                      5.24  Finished               4.46    NaN  "
      ]
     },
     "execution_count": 127,
     "metadata": {},
     "output_type": "execute_result"
    }
   ],
   "source": [
    "df_report.head()"
   ]
  },
  {
   "cell_type": "code",
   "execution_count": 128,
   "metadata": {},
   "outputs": [],
   "source": [
    "df_report_na = df_report.dropna(how = 'any')"
   ]
  },
  {
   "cell_type": "code",
   "execution_count": 129,
   "metadata": {},
   "outputs": [],
   "source": [
    "df_report_JPPL = df_report_na.loc[df_report_na['Status'] == 'Finished']"
   ]
  },
  {
   "cell_type": "code",
   "execution_count": 130,
   "metadata": {},
   "outputs": [
    {
     "name": "stdout",
     "output_type": "stream",
     "text": [
      "<class 'pandas.core.frame.DataFrame'>\n",
      "Int64Index: 1738 entries, 0 to 9860\n",
      "Data columns (total 11 columns):\n",
      "Job ID                      1738 non-null int64\n",
      "Date/Time                   1738 non-null object\n",
      "File Name                   1738 non-null object\n",
      "Printer ID                  1738 non-null int64\n",
      "Email                       1738 non-null object\n",
      "Material Used (kg)          1738 non-null float64\n",
      "Real print time (h)         1738 non-null float64\n",
      "Estimated print time (h)    1738 non-null float64\n",
      "Status                      1738 non-null object\n",
      "Material Cost ($)           1738 non-null float64\n",
      "Branch                      1738 non-null object\n",
      "dtypes: float64(4), int64(2), object(5)\n",
      "memory usage: 162.9+ KB\n"
     ]
    }
   ],
   "source": [
    "df_report_JPPL.info()"
   ]
  },
  {
   "cell_type": "code",
   "execution_count": 131,
   "metadata": {},
   "outputs": [
    {
     "data": {
      "text/html": [
       "<div>\n",
       "<style scoped>\n",
       "    .dataframe tbody tr th:only-of-type {\n",
       "        vertical-align: middle;\n",
       "    }\n",
       "\n",
       "    .dataframe tbody tr th {\n",
       "        vertical-align: top;\n",
       "    }\n",
       "\n",
       "    .dataframe thead th {\n",
       "        text-align: right;\n",
       "    }\n",
       "</style>\n",
       "<table border=\"1\" class=\"dataframe\">\n",
       "  <thead>\n",
       "    <tr style=\"text-align: right;\">\n",
       "      <th></th>\n",
       "      <th>Job ID</th>\n",
       "      <th>Printer ID</th>\n",
       "      <th>Material Used (kg)</th>\n",
       "      <th>Real print time (h)</th>\n",
       "      <th>Estimated print time (h)</th>\n",
       "      <th>Material Cost ($)</th>\n",
       "    </tr>\n",
       "    <tr>\n",
       "      <th>Branch</th>\n",
       "      <th></th>\n",
       "      <th></th>\n",
       "      <th></th>\n",
       "      <th></th>\n",
       "      <th></th>\n",
       "      <th></th>\n",
       "    </tr>\n",
       "  </thead>\n",
       "  <tbody>\n",
       "    <tr>\n",
       "      <td>EBR</td>\n",
       "      <td>867572386</td>\n",
       "      <td>51079142</td>\n",
       "      <td>25.719</td>\n",
       "      <td>2468.78</td>\n",
       "      <td>2486.03</td>\n",
       "      <td>1283.47</td>\n",
       "    </tr>\n",
       "    <tr>\n",
       "      <td>RIV</td>\n",
       "      <td>189248597</td>\n",
       "      <td>11687892</td>\n",
       "      <td>8.755</td>\n",
       "      <td>1288.57</td>\n",
       "      <td>1313.80</td>\n",
       "      <td>438.54</td>\n",
       "    </tr>\n",
       "    <tr>\n",
       "      <td>Teen</td>\n",
       "      <td>151016592</td>\n",
       "      <td>10095597</td>\n",
       "      <td>4.128</td>\n",
       "      <td>395.14</td>\n",
       "      <td>392.13</td>\n",
       "      <td>206.16</td>\n",
       "    </tr>\n",
       "    <tr>\n",
       "      <td>WBR</td>\n",
       "      <td>40553350</td>\n",
       "      <td>2369520</td>\n",
       "      <td>2.322</td>\n",
       "      <td>247.01</td>\n",
       "      <td>255.30</td>\n",
       "      <td>116.29</td>\n",
       "    </tr>\n",
       "  </tbody>\n",
       "</table>\n",
       "</div>"
      ],
      "text/plain": [
       "           Job ID  Printer ID  Material Used (kg)  Real print time (h)  \\\n",
       "Branch                                                                   \n",
       "EBR     867572386    51079142              25.719              2468.78   \n",
       "RIV     189248597    11687892               8.755              1288.57   \n",
       "Teen    151016592    10095597               4.128               395.14   \n",
       "WBR      40553350     2369520               2.322               247.01   \n",
       "\n",
       "        Estimated print time (h)  Material Cost ($)  \n",
       "Branch                                               \n",
       "EBR                      2486.03            1283.47  \n",
       "RIV                      1313.80             438.54  \n",
       "Teen                      392.13             206.16  \n",
       "WBR                       255.30             116.29  "
      ]
     },
     "execution_count": 131,
     "metadata": {},
     "output_type": "execute_result"
    }
   ],
   "source": [
    "df_report_JPPL.groupby('Branch').sum()"
   ]
  },
  {
   "cell_type": "code",
   "execution_count": 132,
   "metadata": {},
   "outputs": [],
   "source": [
    "df_report_drop = df_report_JPPL.drop(['Job ID','File Name','Status', 'Email'], axis = 1)"
   ]
  },
  {
   "cell_type": "code",
   "execution_count": 133,
   "metadata": {},
   "outputs": [
    {
     "data": {
      "text/html": [
       "<div>\n",
       "<style scoped>\n",
       "    .dataframe tbody tr th:only-of-type {\n",
       "        vertical-align: middle;\n",
       "    }\n",
       "\n",
       "    .dataframe tbody tr th {\n",
       "        vertical-align: top;\n",
       "    }\n",
       "\n",
       "    .dataframe thead th {\n",
       "        text-align: right;\n",
       "    }\n",
       "</style>\n",
       "<table border=\"1\" class=\"dataframe\">\n",
       "  <thead>\n",
       "    <tr style=\"text-align: right;\">\n",
       "      <th></th>\n",
       "      <th>Date/Time</th>\n",
       "      <th>Printer ID</th>\n",
       "      <th>Material Used (kg)</th>\n",
       "      <th>Real print time (h)</th>\n",
       "      <th>Estimated print time (h)</th>\n",
       "      <th>Material Cost ($)</th>\n",
       "      <th>Branch</th>\n",
       "    </tr>\n",
       "  </thead>\n",
       "  <tbody>\n",
       "    <tr>\n",
       "      <td>0</td>\n",
       "      <td>2019-09-30 19:50:34</td>\n",
       "      <td>40995</td>\n",
       "      <td>0.012</td>\n",
       "      <td>1.37</td>\n",
       "      <td>1.32</td>\n",
       "      <td>0.58</td>\n",
       "      <td>EBR</td>\n",
       "    </tr>\n",
       "    <tr>\n",
       "      <td>8</td>\n",
       "      <td>2019-09-28 20:05:07</td>\n",
       "      <td>40994</td>\n",
       "      <td>0.002</td>\n",
       "      <td>0.31</td>\n",
       "      <td>0.27</td>\n",
       "      <td>0.09</td>\n",
       "      <td>EBR</td>\n",
       "    </tr>\n",
       "    <tr>\n",
       "      <td>10</td>\n",
       "      <td>2019-09-28 16:17:14</td>\n",
       "      <td>40994</td>\n",
       "      <td>0.024</td>\n",
       "      <td>3.71</td>\n",
       "      <td>3.73</td>\n",
       "      <td>1.20</td>\n",
       "      <td>EBR</td>\n",
       "    </tr>\n",
       "    <tr>\n",
       "      <td>14</td>\n",
       "      <td>2019-09-27 20:38:48</td>\n",
       "      <td>48771</td>\n",
       "      <td>0.010</td>\n",
       "      <td>1.11</td>\n",
       "      <td>1.07</td>\n",
       "      <td>0.49</td>\n",
       "      <td>Teen</td>\n",
       "    </tr>\n",
       "    <tr>\n",
       "      <td>15</td>\n",
       "      <td>2019-09-27 19:40:10</td>\n",
       "      <td>48771</td>\n",
       "      <td>0.007</td>\n",
       "      <td>0.86</td>\n",
       "      <td>0.78</td>\n",
       "      <td>0.34</td>\n",
       "      <td>Teen</td>\n",
       "    </tr>\n",
       "  </tbody>\n",
       "</table>\n",
       "</div>"
      ],
      "text/plain": [
       "              Date/Time  Printer ID  Material Used (kg)  Real print time (h)  \\\n",
       "0   2019-09-30 19:50:34       40995               0.012                 1.37   \n",
       "8   2019-09-28 20:05:07       40994               0.002                 0.31   \n",
       "10  2019-09-28 16:17:14       40994               0.024                 3.71   \n",
       "14  2019-09-27 20:38:48       48771               0.010                 1.11   \n",
       "15  2019-09-27 19:40:10       48771               0.007                 0.86   \n",
       "\n",
       "    Estimated print time (h)  Material Cost ($) Branch  \n",
       "0                       1.32               0.58    EBR  \n",
       "8                       0.27               0.09    EBR  \n",
       "10                      3.73               1.20    EBR  \n",
       "14                      1.07               0.49   Teen  \n",
       "15                      0.78               0.34   Teen  "
      ]
     },
     "execution_count": 133,
     "metadata": {},
     "output_type": "execute_result"
    }
   ],
   "source": [
    "df_report_drop.head()"
   ]
  },
  {
   "cell_type": "code",
   "execution_count": 134,
   "metadata": {},
   "outputs": [],
   "source": [
    "df_report_drop.set_index(['Printer ID'], inplace = True)"
   ]
  },
  {
   "cell_type": "code",
   "execution_count": 135,
   "metadata": {},
   "outputs": [],
   "source": [
    "df_report_drop['Date/Time'] = pd.to_datetime(df_report_drop['Date/Time'],format = '%Y%m%d %H:%M:%S', utc = True)"
   ]
  },
  {
   "cell_type": "code",
   "execution_count": 136,
   "metadata": {},
   "outputs": [],
   "source": [
    "df_report_drop['Date/Time'] = df_report_drop['Date/Time'].dt.date"
   ]
  },
  {
   "cell_type": "code",
   "execution_count": 137,
   "metadata": {},
   "outputs": [
    {
     "data": {
      "text/html": [
       "<div>\n",
       "<style scoped>\n",
       "    .dataframe tbody tr th:only-of-type {\n",
       "        vertical-align: middle;\n",
       "    }\n",
       "\n",
       "    .dataframe tbody tr th {\n",
       "        vertical-align: top;\n",
       "    }\n",
       "\n",
       "    .dataframe thead th {\n",
       "        text-align: right;\n",
       "    }\n",
       "</style>\n",
       "<table border=\"1\" class=\"dataframe\">\n",
       "  <thead>\n",
       "    <tr style=\"text-align: right;\">\n",
       "      <th></th>\n",
       "      <th>Date/Time</th>\n",
       "      <th>Material Used (kg)</th>\n",
       "      <th>Real print time (h)</th>\n",
       "      <th>Estimated print time (h)</th>\n",
       "      <th>Material Cost ($)</th>\n",
       "      <th>Branch</th>\n",
       "    </tr>\n",
       "    <tr>\n",
       "      <th>Printer ID</th>\n",
       "      <th></th>\n",
       "      <th></th>\n",
       "      <th></th>\n",
       "      <th></th>\n",
       "      <th></th>\n",
       "      <th></th>\n",
       "    </tr>\n",
       "  </thead>\n",
       "  <tbody>\n",
       "    <tr>\n",
       "      <td>40995</td>\n",
       "      <td>2019-09-30</td>\n",
       "      <td>0.012</td>\n",
       "      <td>1.37</td>\n",
       "      <td>1.32</td>\n",
       "      <td>0.58</td>\n",
       "      <td>EBR</td>\n",
       "    </tr>\n",
       "    <tr>\n",
       "      <td>40994</td>\n",
       "      <td>2019-09-28</td>\n",
       "      <td>0.002</td>\n",
       "      <td>0.31</td>\n",
       "      <td>0.27</td>\n",
       "      <td>0.09</td>\n",
       "      <td>EBR</td>\n",
       "    </tr>\n",
       "    <tr>\n",
       "      <td>40994</td>\n",
       "      <td>2019-09-28</td>\n",
       "      <td>0.024</td>\n",
       "      <td>3.71</td>\n",
       "      <td>3.73</td>\n",
       "      <td>1.20</td>\n",
       "      <td>EBR</td>\n",
       "    </tr>\n",
       "    <tr>\n",
       "      <td>48771</td>\n",
       "      <td>2019-09-27</td>\n",
       "      <td>0.010</td>\n",
       "      <td>1.11</td>\n",
       "      <td>1.07</td>\n",
       "      <td>0.49</td>\n",
       "      <td>Teen</td>\n",
       "    </tr>\n",
       "    <tr>\n",
       "      <td>48771</td>\n",
       "      <td>2019-09-27</td>\n",
       "      <td>0.007</td>\n",
       "      <td>0.86</td>\n",
       "      <td>0.78</td>\n",
       "      <td>0.34</td>\n",
       "      <td>Teen</td>\n",
       "    </tr>\n",
       "  </tbody>\n",
       "</table>\n",
       "</div>"
      ],
      "text/plain": [
       "             Date/Time  Material Used (kg)  Real print time (h)  \\\n",
       "Printer ID                                                        \n",
       "40995       2019-09-30               0.012                 1.37   \n",
       "40994       2019-09-28               0.002                 0.31   \n",
       "40994       2019-09-28               0.024                 3.71   \n",
       "48771       2019-09-27               0.010                 1.11   \n",
       "48771       2019-09-27               0.007                 0.86   \n",
       "\n",
       "            Estimated print time (h)  Material Cost ($) Branch  \n",
       "Printer ID                                                      \n",
       "40995                           1.32               0.58    EBR  \n",
       "40994                           0.27               0.09    EBR  \n",
       "40994                           3.73               1.20    EBR  \n",
       "48771                           1.07               0.49   Teen  \n",
       "48771                           0.78               0.34   Teen  "
      ]
     },
     "execution_count": 137,
     "metadata": {},
     "output_type": "execute_result"
    }
   ],
   "source": [
    "df_report_drop.head()"
   ]
  },
  {
   "cell_type": "code",
   "execution_count": 138,
   "metadata": {},
   "outputs": [
    {
     "data": {
      "text/plain": [
       "40994    628\n",
       "40995    618\n",
       "49316    237\n",
       "48771    207\n",
       "49365     48\n",
       "Name: Printer ID, dtype: int64"
      ]
     },
     "execution_count": 138,
     "metadata": {},
     "output_type": "execute_result"
    }
   ],
   "source": [
    "df_report_drop.index.value_counts()"
   ]
  },
  {
   "cell_type": "code",
   "execution_count": 139,
   "metadata": {},
   "outputs": [
    {
     "name": "stdout",
     "output_type": "stream",
     "text": [
      "<class 'pandas.core.frame.DataFrame'>\n",
      "Int64Index: 1738 entries, 40995 to 40994\n",
      "Data columns (total 6 columns):\n",
      "Date/Time                   1738 non-null object\n",
      "Material Used (kg)          1738 non-null float64\n",
      "Real print time (h)         1738 non-null float64\n",
      "Estimated print time (h)    1738 non-null float64\n",
      "Material Cost ($)           1738 non-null float64\n",
      "Branch                      1738 non-null object\n",
      "dtypes: float64(4), object(2)\n",
      "memory usage: 95.0+ KB\n"
     ]
    }
   ],
   "source": [
    "df_report_drop.info()"
   ]
  },
  {
   "cell_type": "code",
   "execution_count": 140,
   "metadata": {},
   "outputs": [],
   "source": [
    "df_report_drop['Date/Time'] = pd.to_datetime(df_report_drop['Date/Time'], format='%Y-%m-%d')"
   ]
  },
  {
   "cell_type": "markdown",
   "metadata": {},
   "source": [
    "# Just focusing on Viz"
   ]
  },
  {
   "cell_type": "code",
   "execution_count": 141,
   "metadata": {},
   "outputs": [],
   "source": [
    "df_reset = df_report_drop.reset_index()"
   ]
  },
  {
   "cell_type": "code",
   "execution_count": 142,
   "metadata": {},
   "outputs": [
    {
     "data": {
      "text/html": [
       "<div>\n",
       "<style scoped>\n",
       "    .dataframe tbody tr th:only-of-type {\n",
       "        vertical-align: middle;\n",
       "    }\n",
       "\n",
       "    .dataframe tbody tr th {\n",
       "        vertical-align: top;\n",
       "    }\n",
       "\n",
       "    .dataframe thead th {\n",
       "        text-align: right;\n",
       "    }\n",
       "</style>\n",
       "<table border=\"1\" class=\"dataframe\">\n",
       "  <thead>\n",
       "    <tr style=\"text-align: right;\">\n",
       "      <th></th>\n",
       "      <th>Printer ID</th>\n",
       "      <th>Date/Time</th>\n",
       "      <th>Material Used (kg)</th>\n",
       "      <th>Real print time (h)</th>\n",
       "      <th>Estimated print time (h)</th>\n",
       "      <th>Material Cost ($)</th>\n",
       "      <th>Branch</th>\n",
       "    </tr>\n",
       "  </thead>\n",
       "  <tbody>\n",
       "    <tr>\n",
       "      <td>0</td>\n",
       "      <td>40995</td>\n",
       "      <td>2019-09-30</td>\n",
       "      <td>0.012</td>\n",
       "      <td>1.37</td>\n",
       "      <td>1.32</td>\n",
       "      <td>0.58</td>\n",
       "      <td>EBR</td>\n",
       "    </tr>\n",
       "    <tr>\n",
       "      <td>1</td>\n",
       "      <td>40994</td>\n",
       "      <td>2019-09-28</td>\n",
       "      <td>0.002</td>\n",
       "      <td>0.31</td>\n",
       "      <td>0.27</td>\n",
       "      <td>0.09</td>\n",
       "      <td>EBR</td>\n",
       "    </tr>\n",
       "    <tr>\n",
       "      <td>2</td>\n",
       "      <td>40994</td>\n",
       "      <td>2019-09-28</td>\n",
       "      <td>0.024</td>\n",
       "      <td>3.71</td>\n",
       "      <td>3.73</td>\n",
       "      <td>1.20</td>\n",
       "      <td>EBR</td>\n",
       "    </tr>\n",
       "    <tr>\n",
       "      <td>3</td>\n",
       "      <td>48771</td>\n",
       "      <td>2019-09-27</td>\n",
       "      <td>0.010</td>\n",
       "      <td>1.11</td>\n",
       "      <td>1.07</td>\n",
       "      <td>0.49</td>\n",
       "      <td>Teen</td>\n",
       "    </tr>\n",
       "    <tr>\n",
       "      <td>4</td>\n",
       "      <td>48771</td>\n",
       "      <td>2019-09-27</td>\n",
       "      <td>0.007</td>\n",
       "      <td>0.86</td>\n",
       "      <td>0.78</td>\n",
       "      <td>0.34</td>\n",
       "      <td>Teen</td>\n",
       "    </tr>\n",
       "  </tbody>\n",
       "</table>\n",
       "</div>"
      ],
      "text/plain": [
       "   Printer ID  Date/Time  Material Used (kg)  Real print time (h)  \\\n",
       "0       40995 2019-09-30               0.012                 1.37   \n",
       "1       40994 2019-09-28               0.002                 0.31   \n",
       "2       40994 2019-09-28               0.024                 3.71   \n",
       "3       48771 2019-09-27               0.010                 1.11   \n",
       "4       48771 2019-09-27               0.007                 0.86   \n",
       "\n",
       "   Estimated print time (h)  Material Cost ($) Branch  \n",
       "0                      1.32               0.58    EBR  \n",
       "1                      0.27               0.09    EBR  \n",
       "2                      3.73               1.20    EBR  \n",
       "3                      1.07               0.49   Teen  \n",
       "4                      0.78               0.34   Teen  "
      ]
     },
     "execution_count": 142,
     "metadata": {},
     "output_type": "execute_result"
    }
   ],
   "source": [
    "df_reset.head()"
   ]
  },
  {
   "cell_type": "code",
   "execution_count": 143,
   "metadata": {},
   "outputs": [],
   "source": [
    "df_pivot = df_reset[['Date/Time','Branch']]"
   ]
  },
  {
   "cell_type": "code",
   "execution_count": 144,
   "metadata": {},
   "outputs": [
    {
     "data": {
      "text/html": [
       "<div>\n",
       "<style scoped>\n",
       "    .dataframe tbody tr th:only-of-type {\n",
       "        vertical-align: middle;\n",
       "    }\n",
       "\n",
       "    .dataframe tbody tr th {\n",
       "        vertical-align: top;\n",
       "    }\n",
       "\n",
       "    .dataframe thead th {\n",
       "        text-align: right;\n",
       "    }\n",
       "</style>\n",
       "<table border=\"1\" class=\"dataframe\">\n",
       "  <thead>\n",
       "    <tr style=\"text-align: right;\">\n",
       "      <th></th>\n",
       "      <th>Date/Time</th>\n",
       "      <th>Branch</th>\n",
       "    </tr>\n",
       "  </thead>\n",
       "  <tbody>\n",
       "    <tr>\n",
       "      <td>0</td>\n",
       "      <td>2019-09-30</td>\n",
       "      <td>EBR</td>\n",
       "    </tr>\n",
       "    <tr>\n",
       "      <td>1</td>\n",
       "      <td>2019-09-28</td>\n",
       "      <td>EBR</td>\n",
       "    </tr>\n",
       "    <tr>\n",
       "      <td>2</td>\n",
       "      <td>2019-09-28</td>\n",
       "      <td>EBR</td>\n",
       "    </tr>\n",
       "    <tr>\n",
       "      <td>3</td>\n",
       "      <td>2019-09-27</td>\n",
       "      <td>Teen</td>\n",
       "    </tr>\n",
       "    <tr>\n",
       "      <td>4</td>\n",
       "      <td>2019-09-27</td>\n",
       "      <td>Teen</td>\n",
       "    </tr>\n",
       "  </tbody>\n",
       "</table>\n",
       "</div>"
      ],
      "text/plain": [
       "   Date/Time Branch\n",
       "0 2019-09-30    EBR\n",
       "1 2019-09-28    EBR\n",
       "2 2019-09-28    EBR\n",
       "3 2019-09-27   Teen\n",
       "4 2019-09-27   Teen"
      ]
     },
     "execution_count": 144,
     "metadata": {},
     "output_type": "execute_result"
    }
   ],
   "source": [
    "df_pivot.head()"
   ]
  },
  {
   "cell_type": "code",
   "execution_count": 145,
   "metadata": {},
   "outputs": [],
   "source": [
    "df_reset.set_index('Date/Time', inplace=True)"
   ]
  },
  {
   "cell_type": "code",
   "execution_count": 146,
   "metadata": {},
   "outputs": [],
   "source": [
    "df_sorted = df_report_drop.sort_index()"
   ]
  },
  {
   "cell_type": "code",
   "execution_count": 147,
   "metadata": {},
   "outputs": [
    {
     "data": {
      "text/plain": [
       "<matplotlib.axes._subplots.AxesSubplot at 0x127048d50>"
      ]
     },
     "execution_count": 147,
     "metadata": {},
     "output_type": "execute_result"
    },
    {
     "data": {
      "image/png": "[encoded data removed]",
      "text/plain": [
       "<Figure size 432x288 with 1 Axes>"
      ]
     },
     "metadata": {
      "needs_background": "light"
     },
     "output_type": "display_data"
    }
   ],
   "source": [
    "df_sorted['Date/Time'].value_counts(sort=False).plot(kind='line')"
   ]
  },
  {
   "cell_type": "code",
   "execution_count": 148,
   "metadata": {},
   "outputs": [],
   "source": [
    "df_itworks = pd.crosstab(index=df_sorted['Date/Time'], columns=df_sorted['Branch'],values='Count', aggfunc=len)"
   ]
  },
  {
   "cell_type": "code",
   "execution_count": 149,
   "metadata": {},
   "outputs": [
    {
     "data": {
      "text/html": [
       "<div>\n",
       "<style scoped>\n",
       "    .dataframe tbody tr th:only-of-type {\n",
       "        vertical-align: middle;\n",
       "    }\n",
       "\n",
       "    .dataframe tbody tr th {\n",
       "        vertical-align: top;\n",
       "    }\n",
       "\n",
       "    .dataframe thead th {\n",
       "        text-align: right;\n",
       "    }\n",
       "</style>\n",
       "<table border=\"1\" class=\"dataframe\">\n",
       "  <thead>\n",
       "    <tr style=\"text-align: right;\">\n",
       "      <th>Branch</th>\n",
       "      <th>EBR</th>\n",
       "      <th>RIV</th>\n",
       "      <th>Teen</th>\n",
       "      <th>WBR</th>\n",
       "    </tr>\n",
       "    <tr>\n",
       "      <th>Date/Time</th>\n",
       "      <th></th>\n",
       "      <th></th>\n",
       "      <th></th>\n",
       "      <th></th>\n",
       "    </tr>\n",
       "  </thead>\n",
       "  <tbody>\n",
       "    <tr>\n",
       "      <td>2019-09-25</td>\n",
       "      <td>9.0</td>\n",
       "      <td>NaN</td>\n",
       "      <td>NaN</td>\n",
       "      <td>NaN</td>\n",
       "    </tr>\n",
       "    <tr>\n",
       "      <td>2019-09-26</td>\n",
       "      <td>1.0</td>\n",
       "      <td>NaN</td>\n",
       "      <td>NaN</td>\n",
       "      <td>NaN</td>\n",
       "    </tr>\n",
       "    <tr>\n",
       "      <td>2019-09-27</td>\n",
       "      <td>NaN</td>\n",
       "      <td>NaN</td>\n",
       "      <td>2.0</td>\n",
       "      <td>NaN</td>\n",
       "    </tr>\n",
       "    <tr>\n",
       "      <td>2019-09-28</td>\n",
       "      <td>2.0</td>\n",
       "      <td>NaN</td>\n",
       "      <td>NaN</td>\n",
       "      <td>NaN</td>\n",
       "    </tr>\n",
       "    <tr>\n",
       "      <td>2019-09-30</td>\n",
       "      <td>1.0</td>\n",
       "      <td>NaN</td>\n",
       "      <td>NaN</td>\n",
       "      <td>NaN</td>\n",
       "    </tr>\n",
       "  </tbody>\n",
       "</table>\n",
       "</div>"
      ],
      "text/plain": [
       "Branch      EBR  RIV  Teen  WBR\n",
       "Date/Time                      \n",
       "2019-09-25  9.0  NaN   NaN  NaN\n",
       "2019-09-26  1.0  NaN   NaN  NaN\n",
       "2019-09-27  NaN  NaN   2.0  NaN\n",
       "2019-09-28  2.0  NaN   NaN  NaN\n",
       "2019-09-30  1.0  NaN   NaN  NaN"
      ]
     },
     "execution_count": 149,
     "metadata": {},
     "output_type": "execute_result"
    }
   ],
   "source": [
    "df_itworks.tail()"
   ]
  },
  {
   "cell_type": "code",
   "execution_count": 150,
   "metadata": {},
   "outputs": [],
   "source": [
    "df_fillna = df_itworks.fillna(0)"
   ]
  },
  {
   "cell_type": "code",
   "execution_count": 151,
   "metadata": {},
   "outputs": [
    {
     "data": {
      "text/html": [
       "<div>\n",
       "<style scoped>\n",
       "    .dataframe tbody tr th:only-of-type {\n",
       "        vertical-align: middle;\n",
       "    }\n",
       "\n",
       "    .dataframe tbody tr th {\n",
       "        vertical-align: top;\n",
       "    }\n",
       "\n",
       "    .dataframe thead th {\n",
       "        text-align: right;\n",
       "    }\n",
       "</style>\n",
       "<table border=\"1\" class=\"dataframe\">\n",
       "  <thead>\n",
       "    <tr style=\"text-align: right;\">\n",
       "      <th>Branch</th>\n",
       "      <th>EBR</th>\n",
       "      <th>RIV</th>\n",
       "      <th>Teen</th>\n",
       "      <th>WBR</th>\n",
       "    </tr>\n",
       "    <tr>\n",
       "      <th>Date/Time</th>\n",
       "      <th></th>\n",
       "      <th></th>\n",
       "      <th></th>\n",
       "      <th></th>\n",
       "    </tr>\n",
       "  </thead>\n",
       "  <tbody>\n",
       "    <tr>\n",
       "      <td>2018-01-04</td>\n",
       "      <td>1.0</td>\n",
       "      <td>0.0</td>\n",
       "      <td>0.0</td>\n",
       "      <td>0.0</td>\n",
       "    </tr>\n",
       "    <tr>\n",
       "      <td>2018-01-05</td>\n",
       "      <td>1.0</td>\n",
       "      <td>0.0</td>\n",
       "      <td>0.0</td>\n",
       "      <td>0.0</td>\n",
       "    </tr>\n",
       "    <tr>\n",
       "      <td>2018-01-06</td>\n",
       "      <td>1.0</td>\n",
       "      <td>0.0</td>\n",
       "      <td>0.0</td>\n",
       "      <td>0.0</td>\n",
       "    </tr>\n",
       "    <tr>\n",
       "      <td>2018-01-09</td>\n",
       "      <td>7.0</td>\n",
       "      <td>0.0</td>\n",
       "      <td>0.0</td>\n",
       "      <td>0.0</td>\n",
       "    </tr>\n",
       "    <tr>\n",
       "      <td>2018-01-12</td>\n",
       "      <td>1.0</td>\n",
       "      <td>0.0</td>\n",
       "      <td>0.0</td>\n",
       "      <td>0.0</td>\n",
       "    </tr>\n",
       "  </tbody>\n",
       "</table>\n",
       "</div>"
      ],
      "text/plain": [
       "Branch      EBR  RIV  Teen  WBR\n",
       "Date/Time                      \n",
       "2018-01-04  1.0  0.0   0.0  0.0\n",
       "2018-01-05  1.0  0.0   0.0  0.0\n",
       "2018-01-06  1.0  0.0   0.0  0.0\n",
       "2018-01-09  7.0  0.0   0.0  0.0\n",
       "2018-01-12  1.0  0.0   0.0  0.0"
      ]
     },
     "execution_count": 151,
     "metadata": {},
     "output_type": "execute_result"
    }
   ],
   "source": [
    "df_fillna.head()"
   ]
  },
  {
   "cell_type": "code",
   "execution_count": 152,
   "metadata": {},
   "outputs": [
    {
     "data": {
      "text/plain": [
       "<matplotlib.legend.Legend at 0x1265b8dd0>"
      ]
     },
     "execution_count": 152,
     "metadata": {},
     "output_type": "execute_result"
    },
    {
     "data": {
      "image/png": "[encoded data removed]",
      "text/plain": [
       "<Figure size 1152x432 with 1 Axes>"
      ]
     },
     "metadata": {
      "needs_background": "light"
     },
     "output_type": "display_data"
    }
   ],
   "source": [
    "fig = plt.figure(figsize=(16,6))\n",
    "\n",
    "ax = fig.add_axes([0,0,1,1])\n",
    "\n",
    "ax.plot(df_fillna.index, df_itworks['EBR'], color='red', label=\"EBR\")\n",
    "ax.plot(df_fillna.index, df_itworks['WBR'], color='blue', label=\"WBR\")\n",
    "ax.plot(df_fillna.index, df_itworks['Teen'], color='green', label=\"Teen\")\n",
    "ax.plot(df_fillna.index, df_itworks['RIV'], color='yellow', label=\"RIV\")\n",
    "\n",
    "ax.legend()"
   ]
  },
  {
   "cell_type": "code",
   "execution_count": 153,
   "metadata": {},
   "outputs": [
    {
     "data": {
      "text/html": [
       "<div>\n",
       "<style scoped>\n",
       "    .dataframe tbody tr th:only-of-type {\n",
       "        vertical-align: middle;\n",
       "    }\n",
       "\n",
       "    .dataframe tbody tr th {\n",
       "        vertical-align: top;\n",
       "    }\n",
       "\n",
       "    .dataframe thead th {\n",
       "        text-align: right;\n",
       "    }\n",
       "</style>\n",
       "<table border=\"1\" class=\"dataframe\">\n",
       "  <thead>\n",
       "    <tr style=\"text-align: right;\">\n",
       "      <th></th>\n",
       "      <th>Material Used (kg)</th>\n",
       "      <th>Real print time (h)</th>\n",
       "      <th>Estimated print time (h)</th>\n",
       "      <th>Material Cost ($)</th>\n",
       "    </tr>\n",
       "    <tr>\n",
       "      <th>Branch</th>\n",
       "      <th></th>\n",
       "      <th></th>\n",
       "      <th></th>\n",
       "      <th></th>\n",
       "    </tr>\n",
       "  </thead>\n",
       "  <tbody>\n",
       "    <tr>\n",
       "      <td>EBR</td>\n",
       "      <td>25.719</td>\n",
       "      <td>2468.78</td>\n",
       "      <td>2486.03</td>\n",
       "      <td>1283.47</td>\n",
       "    </tr>\n",
       "    <tr>\n",
       "      <td>RIV</td>\n",
       "      <td>8.755</td>\n",
       "      <td>1288.57</td>\n",
       "      <td>1313.80</td>\n",
       "      <td>438.54</td>\n",
       "    </tr>\n",
       "    <tr>\n",
       "      <td>Teen</td>\n",
       "      <td>4.128</td>\n",
       "      <td>395.14</td>\n",
       "      <td>392.13</td>\n",
       "      <td>206.16</td>\n",
       "    </tr>\n",
       "    <tr>\n",
       "      <td>WBR</td>\n",
       "      <td>2.322</td>\n",
       "      <td>247.01</td>\n",
       "      <td>255.30</td>\n",
       "      <td>116.29</td>\n",
       "    </tr>\n",
       "  </tbody>\n",
       "</table>\n",
       "</div>"
      ],
      "text/plain": [
       "        Material Used (kg)  Real print time (h)  Estimated print time (h)  \\\n",
       "Branch                                                                      \n",
       "EBR                 25.719              2468.78                   2486.03   \n",
       "RIV                  8.755              1288.57                   1313.80   \n",
       "Teen                 4.128               395.14                    392.13   \n",
       "WBR                  2.322               247.01                    255.30   \n",
       "\n",
       "        Material Cost ($)  \n",
       "Branch                     \n",
       "EBR               1283.47  \n",
       "RIV                438.54  \n",
       "Teen               206.16  \n",
       "WBR                116.29  "
      ]
     },
     "execution_count": 153,
     "metadata": {},
     "output_type": "execute_result"
    }
   ],
   "source": [
    "df_sorted.groupby(['Branch']).sum()"
   ]
  },
  {
   "cell_type": "code",
   "execution_count": 154,
   "metadata": {},
   "outputs": [
    {
     "data": {
      "text/html": [
       "<div>\n",
       "<style scoped>\n",
       "    .dataframe tbody tr th:only-of-type {\n",
       "        vertical-align: middle;\n",
       "    }\n",
       "\n",
       "    .dataframe tbody tr th {\n",
       "        vertical-align: top;\n",
       "    }\n",
       "\n",
       "    .dataframe thead th {\n",
       "        text-align: right;\n",
       "    }\n",
       "</style>\n",
       "<table border=\"1\" class=\"dataframe\">\n",
       "  <thead>\n",
       "    <tr style=\"text-align: right;\">\n",
       "      <th></th>\n",
       "      <th>Date/Time</th>\n",
       "      <th>Material Used (kg)</th>\n",
       "      <th>Real print time (h)</th>\n",
       "      <th>Estimated print time (h)</th>\n",
       "      <th>Material Cost ($)</th>\n",
       "    </tr>\n",
       "    <tr>\n",
       "      <th>Branch</th>\n",
       "      <th></th>\n",
       "      <th></th>\n",
       "      <th></th>\n",
       "      <th></th>\n",
       "      <th></th>\n",
       "    </tr>\n",
       "  </thead>\n",
       "  <tbody>\n",
       "    <tr>\n",
       "      <td>EBR</td>\n",
       "      <td>2019-09-30</td>\n",
       "      <td>0.264</td>\n",
       "      <td>22.24</td>\n",
       "      <td>23.16</td>\n",
       "      <td>13.22</td>\n",
       "    </tr>\n",
       "    <tr>\n",
       "      <td>RIV</td>\n",
       "      <td>2019-09-24</td>\n",
       "      <td>0.182</td>\n",
       "      <td>32.95</td>\n",
       "      <td>33.37</td>\n",
       "      <td>9.10</td>\n",
       "    </tr>\n",
       "    <tr>\n",
       "      <td>Teen</td>\n",
       "      <td>2019-09-27</td>\n",
       "      <td>0.140</td>\n",
       "      <td>13.15</td>\n",
       "      <td>14.14</td>\n",
       "      <td>6.98</td>\n",
       "    </tr>\n",
       "    <tr>\n",
       "      <td>WBR</td>\n",
       "      <td>2019-09-17</td>\n",
       "      <td>0.309</td>\n",
       "      <td>47.42</td>\n",
       "      <td>48.39</td>\n",
       "      <td>15.46</td>\n",
       "    </tr>\n",
       "  </tbody>\n",
       "</table>\n",
       "</div>"
      ],
      "text/plain": [
       "        Date/Time  Material Used (kg)  Real print time (h)  \\\n",
       "Branch                                                       \n",
       "EBR    2019-09-30               0.264                22.24   \n",
       "RIV    2019-09-24               0.182                32.95   \n",
       "Teen   2019-09-27               0.140                13.15   \n",
       "WBR    2019-09-17               0.309                47.42   \n",
       "\n",
       "        Estimated print time (h)  Material Cost ($)  \n",
       "Branch                                               \n",
       "EBR                        23.16              13.22  \n",
       "RIV                        33.37               9.10  \n",
       "Teen                       14.14               6.98  \n",
       "WBR                        48.39              15.46  "
      ]
     },
     "execution_count": 154,
     "metadata": {},
     "output_type": "execute_result"
    }
   ],
   "source": [
    "df_sorted.groupby(['Branch']).max()"
   ]
  },
  {
   "cell_type": "code",
   "execution_count": 155,
   "metadata": {},
   "outputs": [],
   "source": [
    "df_sorted.to_csv(path_or_buf='~/Desktop/ES-Misc/Data-Python/JPPL/New-Data/revised.csv')"
   ]
  },
  {
   "cell_type": "code",
   "execution_count": 156,
   "metadata": {},
   "outputs": [],
   "source": [
    "df_test = df_sorted.reset_index(drop=True)"
   ]
  },
  {
   "cell_type": "code",
   "execution_count": 157,
   "metadata": {},
   "outputs": [
    {
     "data": {
      "text/html": [
       "<div>\n",
       "<style scoped>\n",
       "    .dataframe tbody tr th:only-of-type {\n",
       "        vertical-align: middle;\n",
       "    }\n",
       "\n",
       "    .dataframe tbody tr th {\n",
       "        vertical-align: top;\n",
       "    }\n",
       "\n",
       "    .dataframe thead th {\n",
       "        text-align: right;\n",
       "    }\n",
       "</style>\n",
       "<table border=\"1\" class=\"dataframe\">\n",
       "  <thead>\n",
       "    <tr style=\"text-align: right;\">\n",
       "      <th></th>\n",
       "      <th>Date/Time</th>\n",
       "      <th>Material Used (kg)</th>\n",
       "      <th>Real print time (h)</th>\n",
       "      <th>Estimated print time (h)</th>\n",
       "      <th>Material Cost ($)</th>\n",
       "      <th>Branch</th>\n",
       "    </tr>\n",
       "  </thead>\n",
       "  <tbody>\n",
       "    <tr>\n",
       "      <td>0</td>\n",
       "      <td>2018-01-04</td>\n",
       "      <td>0.007</td>\n",
       "      <td>0.72</td>\n",
       "      <td>0.65</td>\n",
       "      <td>0.36</td>\n",
       "      <td>EBR</td>\n",
       "    </tr>\n",
       "    <tr>\n",
       "      <td>1</td>\n",
       "      <td>2019-06-05</td>\n",
       "      <td>0.003</td>\n",
       "      <td>0.35</td>\n",
       "      <td>0.30</td>\n",
       "      <td>0.14</td>\n",
       "      <td>EBR</td>\n",
       "    </tr>\n",
       "    <tr>\n",
       "      <td>2</td>\n",
       "      <td>2019-03-30</td>\n",
       "      <td>0.003</td>\n",
       "      <td>0.32</td>\n",
       "      <td>0.35</td>\n",
       "      <td>0.13</td>\n",
       "      <td>EBR</td>\n",
       "    </tr>\n",
       "    <tr>\n",
       "      <td>3</td>\n",
       "      <td>2019-06-05</td>\n",
       "      <td>0.003</td>\n",
       "      <td>0.36</td>\n",
       "      <td>0.30</td>\n",
       "      <td>0.14</td>\n",
       "      <td>EBR</td>\n",
       "    </tr>\n",
       "    <tr>\n",
       "      <td>4</td>\n",
       "      <td>2018-07-31</td>\n",
       "      <td>0.018</td>\n",
       "      <td>1.89</td>\n",
       "      <td>1.89</td>\n",
       "      <td>0.90</td>\n",
       "      <td>EBR</td>\n",
       "    </tr>\n",
       "  </tbody>\n",
       "</table>\n",
       "</div>"
      ],
      "text/plain": [
       "   Date/Time  Material Used (kg)  Real print time (h)  \\\n",
       "0 2018-01-04               0.007                 0.72   \n",
       "1 2019-06-05               0.003                 0.35   \n",
       "2 2019-03-30               0.003                 0.32   \n",
       "3 2019-06-05               0.003                 0.36   \n",
       "4 2018-07-31               0.018                 1.89   \n",
       "\n",
       "   Estimated print time (h)  Material Cost ($) Branch  \n",
       "0                      0.65               0.36    EBR  \n",
       "1                      0.30               0.14    EBR  \n",
       "2                      0.35               0.13    EBR  \n",
       "3                      0.30               0.14    EBR  \n",
       "4                      1.89               0.90    EBR  "
      ]
     },
     "execution_count": 157,
     "metadata": {},
     "output_type": "execute_result"
    }
   ],
   "source": [
    "df_test.head()"
   ]
  },
  {
   "cell_type": "code",
   "execution_count": 158,
   "metadata": {},
   "outputs": [],
   "source": [
    "columns_1 = ['Date','Material','Real','Est','Cost','Branch']\n",
    "df_test.columns = columns_1"
   ]
  },
  {
   "cell_type": "code",
   "execution_count": 161,
   "metadata": {},
   "outputs": [],
   "source": [
    "df_test.set_index('Date', inplace=True)"
   ]
  },
  {
   "cell_type": "code",
   "execution_count": 166,
   "metadata": {},
   "outputs": [],
   "source": [
    "df_test.to_csv(path_or_buf='~/Desktop/ES-Misc/Data-Python/JPPL/New-Data/new_cols.csv')"
   ]
  },
  {
   "cell_type": "code",
   "execution_count": null,
   "metadata": {},
   "outputs": [],
   "source": []
  }
 ],
 "metadata": {
  "kernelspec": {
   "display_name": "Python 3",
   "language": "python",
   "name": "python3"
  },
  "language_info": {
   "codemirror_mode": {
    "name": "ipython",
    "version": 3
   },
   "file_extension": ".py",
   "mimetype": "text/x-python",
   "name": "python",
   "nbconvert_exporter": "python",
   "pygments_lexer": "ipython3",
   "version": "3.7.7"
  }
 },
 "nbformat": 4,
 "nbformat_minor": 2
}
